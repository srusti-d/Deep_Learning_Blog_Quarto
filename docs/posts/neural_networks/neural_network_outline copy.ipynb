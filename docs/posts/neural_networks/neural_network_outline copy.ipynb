{
 "cells": [
  {
   "attachments": {},
   "cell_type": "markdown",
   "metadata": {},
   "source": [
    "---\n",
    "title: \"Neural Networks Test\"\n",
    "author: \"Srusti Donapati\"\n",
    "date: \"2023-06-23\"\n",
    "categories: [blog]\n",
    "---"
   ]
  },
  {
   "cell_type": "code",
   "execution_count": null,
   "metadata": {},
   "outputs": [],
   "source": [
    "import torch \n",
    "import torch.nn as nn\n",
    "import torch.nn.functional as F\n",
    "from torch.utils.data import DataLoader, Dataset\n",
    "from sklearn.datasets import load_iris\n",
    "from sklearn import datasets\n",
    "from sklearn.model_selection import train_test_split\n",
    "from sklearn.preprocessing import OneHotEncoder\n",
    "import matplotlib.pyplot as plt"
   ]
  },
  {
   "attachments": {},
   "cell_type": "markdown",
   "metadata": {},
   "source": [
    "Hidden Layer 1:\n",
    "torch.nn.Linear(4,6) #means 4 features going into the input layer, and 6 features coming out in the first hidden layer through linear transformation\n",
    "After getting the 6 outputs in the first hidden layer, you activate by applying non-linearity (does not change the shape, so if the output in the first hidden layer is (1,6), it will remain (1,6))\n",
    "\n",
    "Hidden Layer 2:\n",
    "torch.nn.Linear(6,5)\n",
    "\n",
    "Output Layer:\n",
    "torch.nn.Linear(5,3)\n",
    "\n",
    "Activation:\n",
    "For categorical/probabilities, use the following for activation:\n",
    "y = torch.nn.signoid()\n",
    "\n",
    "For linear regression:\n",
    "y = torch.nn.tanh"
   ]
  },
  {
   "cell_type": "code",
   "execution_count": 3,
   "metadata": {},
   "outputs": [],
   "source": [
    "#Code for defining neural networks:\n",
    "#class MyNeural(nn.Module):\n",
    "    #def __init__(self, numberfeatures, hiddenlayer1, hiddenlayer2, hiddenlayer3, numberofoutputs):\n",
    "        #super(MyNeural, self).__init__()\n",
    "        #self.hL1 = nn.Linear(numberfeatures, hiddenlayer1) #(so if you want to take in 4 and output 6 neurons in HL1, it is (4,6))\n",
    "        #self.hL2 = nn.Linear(hiddenlayer1, hiddenlayer2) #Linear creates fully connected layers, where each neuron is connected to every neuron in the previous layer\n",
    "        #self.hL3 = nn.Linear(hiddenlayer2, hiddenlayer3)\n",
    "        #self.out = nn.Linear(hiddenlayer2, numberofoutputs)\n",
    "        #self.activationfunction = nn.ReLU() #reLu is an activation function which takes any number you put into it \n",
    "        #(from hidden layer 1 or hidden layer 2), and if any of those numbers is negative, \n",
    "        #it turns them into positive, and if they are positive, it retains it\n",
    "        #activation functions introduce non-linearities, allowing the model to learn complex relationships in the data\n",
    "        #self.sig = nn.Sigmoid() #sigmoid is another activation function (here we are defining the output function)\n",
    "\n",
    "    #def forward(self, x): #where x is the number of features you want to put in (the input data)\n",
    "        #x = self.hL1(x)\n",
    "        #x = self.activationfunction(x) #nonlinearity function which goes into hidden layer 2\n",
    "        #x = self.hL2(x)\n",
    "        #x = self.activationfunction(x) #call activation function after every hidden layer to allow complexities to be understood by model\n",
    "        #x = self.hL3(x)\n",
    "        #y = self.sig(x) #calling sig because sigmoid is used for predicting probabilities (categories, like iris dataset)\n",
    "        #return(y) #y is the predicted output of the neural network"
   ]
  },
  {
   "cell_type": "code",
   "execution_count": 4,
   "metadata": {},
   "outputs": [],
   "source": [
    "class MyNeural(nn.Module):\n",
    "    def __init__(self, input, hidden_layers, output):\n",
    "        super().__init__()\n",
    "        self.inputLayer = torch.nn.Linear(input, hidden_layers[0])\n",
    "        self.hlayers = torch.nn.ModuleDict(\n",
    "            {f\"hL{i}\": torch.nn.Linear(hidden_layers[i], hidden_layers[i+1]) for i in range(len(hidden_layers) - 1)}\n",
    "        )\n",
    "        self.outputLayer = torch.nn.Linear(hidden_layers[-1], output)\n",
    "        self.s = nn.Sigmoid()\n",
    "\n",
    "    def forward(self, x):\n",
    "        x = F.relu(self.inputLayer(x))\n",
    "        for name, layer in self.hlayers.items():\n",
    "            x = F.relu(layer(x))\n",
    "        x = self.outputLayer(x)\n",
    "        y = self.s(x)\n",
    "        return y"
   ]
  },
  {
   "attachments": {},
   "cell_type": "markdown",
   "metadata": {},
   "source": [
    "Types of Datasets\n",
    "For categories which describe in text (e.g. iris dataset), it is a 2D matrix with categories (e.g. animal) and features (e.g. fur, color, size, etc)\n",
    "\n",
    "For the training, there are the following: Optimizer, Loss Function, Number of Epochs, how the data is fed, batches\n",
    "\n",
    "Batches split the training examples into groups, so 64 examples in each group, and there are 5 groups for example\n",
    "    64 examples go into the NN, get some values, and get backpropagated, and each and every batch individually goes through the NN in each epoch\n",
    "    The batches are a random amount of training examples\n",
    "\n",
    "An algorithm or method used to adjust the parameters of the model during the training process in order to minimize the loss\n",
    "Examples of optimizers are SGD, Adam, etc\n",
    "\n",
    "An epoch means you train that number of times, so if epochs = 30, you are training 30 times\n",
    "An epoch is one pass through your entire training data\n",
    "The iteration depends on how many batches you have"
   ]
  },
  {
   "cell_type": "code",
   "execution_count": 112,
   "metadata": {},
   "outputs": [],
   "source": [
    "iris = datasets.load_iris()\n",
    "data = iris.data #assigning data (data represents features)\n",
    "target = iris.target #assigning target (which are class labels)\n",
    "\n",
    "trainD, testD, trainT, testT = train_test_split(data, target, test_size=0.1, random_state=42) \n",
    "#splitting the dataset into training and test sets\n",
    "#10% of the data is allocated for testing\n",
    "#random_state is just some arbitrary parameter that, when set again, will ensure the same random splits in data are used\n",
    "tTrainD = torch.from_numpy(trainD).float() #training data\n",
    "tTrainT = torch.from_numpy(trainT).long() #training targets\n",
    "tTestD = torch.from_numpy(testD).float() #testing data\n",
    "tTestT = torch.from_numpy(testT).long() #testing targets"
   ]
  },
  {
   "cell_type": "code",
   "execution_count": 113,
   "metadata": {},
   "outputs": [],
   "source": [
    "\n",
    "#dataset object\n",
    "class myDataset():\n",
    "    def __init__(self, x, y): #initialize by putting in the dataset, which is 1 million by 4 for the iris dataset\n",
    "        self.x = x\n",
    "        self.y = y\n",
    "    def __len__(self): #pytorch will look at the length (the number of rows)\n",
    "        length_ml = self.x.shape[0]\n",
    "        return(length_ml)\n",
    "    def __getitem__(self, idx): # says how to I source one training item and return it back to you, and the next time you call this function,\n",
    "        #it is going to select a different training item (keeping the training items it already used in its memory)\n",
    "        return (self.x[idx, :], self.y[idx])"
   ]
  },
  {
   "cell_type": "code",
   "execution_count": 114,
   "metadata": {},
   "outputs": [
    {
     "data": {
      "text/plain": [
       "<__main__.myDataset at 0x15399b3d0>"
      ]
     },
     "execution_count": 114,
     "metadata": {},
     "output_type": "execute_result"
    }
   ],
   "source": [
    "trainDataset = myDataset(tTrainD, tTrainT)\n",
    "trainDataset"
   ]
  },
  {
   "attachments": {},
   "cell_type": "markdown",
   "metadata": {},
   "source": [
    "After putting in the x and y and creating the object, MyLoader..."
   ]
  },
  {
   "cell_type": "code",
   "execution_count": 115,
   "metadata": {},
   "outputs": [
    {
     "data": {
      "text/plain": [
       "<torch.utils.data.dataloader.DataLoader at 0x15399b310>"
      ]
     },
     "execution_count": 115,
     "metadata": {},
     "output_type": "execute_result"
    }
   ],
   "source": [
    "train_loader = DataLoader(trainDataset, batch_size=8, shuffle=True)\n",
    "train_loader"
   ]
  },
  {
   "cell_type": "code",
   "execution_count": 124,
   "metadata": {},
   "outputs": [
    {
     "data": {
      "text/plain": [
       "MyNeural(\n",
       "  (inputLayer): Linear(in_features=4, out_features=40, bias=True)\n",
       "  (hlayers): ModuleDict(\n",
       "    (hL0): Linear(in_features=40, out_features=60, bias=True)\n",
       "    (hL1): Linear(in_features=60, out_features=50, bias=True)\n",
       "    (hL2): Linear(in_features=50, out_features=30, bias=True)\n",
       "    (hL3): Linear(in_features=30, out_features=20, bias=True)\n",
       "  )\n",
       "  (outputLayer): Linear(in_features=20, out_features=3, bias=True)\n",
       "  (s): Sigmoid()\n",
       ")"
      ]
     },
     "execution_count": 124,
     "metadata": {},
     "output_type": "execute_result"
    }
   ],
   "source": [
    "#name of my neural network\n",
    "myNN = MyNeural(4, [40, 60, 50, 30, 20], 3)\n",
    "myNN"
   ]
  },
  {
   "cell_type": "code",
   "execution_count": 125,
   "metadata": {},
   "outputs": [],
   "source": [
    "opt = torch.optim.SGD(myNN.parameters(), lr = 0.01)\n",
    "lossfunction = nn.CrossEntropyLoss()"
   ]
  },
  {
   "cell_type": "code",
   "execution_count": 126,
   "metadata": {},
   "outputs": [],
   "source": [
    "num_epochs = 50000\n",
    "train_loss = []\n",
    "test_loss = []\n",
    "\n",
    "for epoch in range(num_epochs):\n",
    "    myNN.train()\n",
    "    running_loss = 0\n",
    "    dt_size = 0\n",
    "    for i, (batchX, batchY) in enumerate(train_loader):\n",
    "        opt.zero_grad()\n",
    "        output = myNN(batchX)\n",
    "        loss = lossfunction(output, batchY)\n",
    "        loss.backward()\n",
    "        opt.step()\n",
    "        running_loss += loss.item() * batchX.size(0)\n",
    "        dt_size += batchX.size(0)\n",
    "    train_loss.append(running_loss / dt_size)\n",
    "    #print(f'epoch {epoch}: train loss {iter_loss/(i+1)}')\n",
    "\n",
    "    myNN.eval()\n",
    "    with torch.no_grad():\n",
    "        p = myNN(tTestD)\n",
    "        l = lossfunction(p, tTestT)\n",
    "        test_loss.append(l.item())\n"
   ]
  },
  {
   "cell_type": "code",
   "execution_count": 127,
   "metadata": {},
   "outputs": [
    {
     "data": {
      "text/plain": [
       "<matplotlib.legend.Legend at 0x153aa3190>"
      ]
     },
     "execution_count": 127,
     "metadata": {},
     "output_type": "execute_result"
    },
    {
     "data": {
      "image/png": "[encoded data removed]",
      "text/plain": [
       "<Figure size 640x480 with 1 Axes>"
      ]
     },
     "metadata": {},
     "output_type": "display_data"
    }
   ],
   "source": [
    "plt.plot(train_loss, label='train loss')\n",
    "plt.plot(test_loss, label = 'test loss')\n",
    "plt.legend()"
   ]
  },
  {
   "cell_type": "code",
   "execution_count": 128,
   "metadata": {},
   "outputs": [
    {
     "name": "stdout",
     "output_type": "stream",
     "text": [
      "testing\n",
      "torch.Size([15, 4])\n"
     ]
    }
   ],
   "source": [
    "#testing NN\n",
    "\n",
    "print(\"testing\")\n",
    "opt.zero_grad()\n",
    "output = myNN(tTestD)\n",
    "print(tTestD.shape)\n",
    "loss = lossfunction(output, tTestT)"
   ]
  },
  {
   "cell_type": "code",
   "execution_count": 129,
   "metadata": {},
   "outputs": [
    {
     "name": "stdout",
     "output_type": "stream",
     "text": [
      "tensor([[1, 1],\n",
      "        [0, 0],\n",
      "        [1, 2],\n",
      "        [1, 1],\n",
      "        [1, 1],\n",
      "        [0, 0],\n",
      "        [1, 1],\n",
      "        [1, 2],\n",
      "        [1, 1],\n",
      "        [1, 1],\n",
      "        [1, 2],\n",
      "        [0, 0],\n",
      "        [0, 0],\n",
      "        [0, 0],\n",
      "        [0, 0]])\n",
      "12\n"
     ]
    }
   ],
   "source": [
    "#analyzing and printing results for one epoch\n",
    "\n",
    "preds = []\n",
    "for row in output:\n",
    "    if row.max() == row[0]:\n",
    "        preds.append(0)\n",
    "    elif row.max() == row[1]:\n",
    "        preds.append(1)\n",
    "    else:\n",
    "        preds.append(2)\n",
    "tPreds = torch.tensor(preds).view(15,1)\n",
    "tTargets = tTestT.view(15,1)\n",
    "\n",
    "result = torch.cat([tPreds,tTargets], dim=1)\n",
    "print(result)\n",
    "correct = 0\n",
    "for row in result:\n",
    "    if row[0] == row[1]:\n",
    "        correct += 1\n",
    "\n",
    "print(correct)"
   ]
  },
  {
   "cell_type": "code",
   "execution_count": null,
   "metadata": {},
   "outputs": [],
   "source": []
  }
 ],
 "metadata": {
  "kernelspec": {
   "display_name": "dlgtools",
   "language": "python",
   "name": "python3"
  },
  "language_info": {
   "codemirror_mode": {
    "name": "ipython",
    "version": 3
   },
   "file_extension": ".py",
   "mimetype": "text/x-python",
   "name": "python",
   "nbconvert_exporter": "python",
   "pygments_lexer": "ipython3",
   "version": "3.11.3"
  },
  "orig_nbformat": 4
 },
 "nbformat": 4,
 "nbformat_minor": 2
}
