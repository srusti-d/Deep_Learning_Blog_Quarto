{
 "cells": [
  {
   "cell_type": "raw",
   "metadata": {},
   "source": [
    "---\n",
    "title: \"How to Use Polaris\"\n",
    "author: Srusti\n",
    "date: 2023-11-27\n",
    "---"
   ]
  },
  {
   "cell_type": "markdown",
   "metadata": {},
   "source": [
    "Polaris is a high performance compute system at the Argonne Leadership Computing Facility (ALCF). \n",
    "This post will explain how to use polaris."
   ]
  },
  {
   "cell_type": "markdown",
   "metadata": {},
   "source": [
    "## Getting Started on Polaris"
   ]
  },
  {
   "cell_type": "markdown",
   "metadata": {},
   "source": [
    "First, make sure your ALCF user account and mobile token account has been created, and that you have followed the steps outlined in the ALCF user set-up email (including downloading MobilePASS+ to get the tokens)."
   ]
  },
  {
   "cell_type": "markdown",
   "metadata": {},
   "source": [
    "### To log in to polaris, navigate to the terminal and type:"
   ]
  },
  {
   "cell_type": "markdown",
   "metadata": {},
   "source": [
    "```bash\n",
    "\n",
    "ssh <username>@polaris.alcf.anl.gov\n",
    "\n",
    "```"
   ]
  },
  {
   "cell_type": "markdown",
   "metadata": {},
   "source": [
    "Then, type in the password from your CRYPTOCard/MobilePASS+ token. \n",
    "Each time you login to polaris, you will be given a new password."
   ]
  },
  {
   "cell_type": "markdown",
   "metadata": {},
   "source": [
    "### First your time in the login node"
   ]
  },
  {
   "cell_type": "markdown",
   "metadata": {},
   "source": [
    "After you login to polaris using the ssh method above, you will be given a notice to users and prompted to type a password, which will be the password in MobilePASS+.\n",
    "Once you are in the login node, you should see something like this in your terminal:"
   ]
  },
  {
   "cell_type": "markdown",
   "metadata": {},
   "source": [
    "```bash\n",
    "user@polaris-login-02:~>\n",
    "```"
   ]
  },
  {
   "cell_type": "markdown",
   "metadata": {},
   "source": [
    "You can run applications on the login node, but most of your work should be run on compute nodes by submitting interactive jobs (which we will cover later)."
   ]
  },
  {
   "cell_type": "markdown",
   "metadata": {},
   "source": [
    "Once in login node, load conda and create a virtual environment."
   ]
  },
  {
   "cell_type": "markdown",
   "metadata": {},
   "source": [
    "```bash\n",
    "module load conda/2023-10-04 #updated conda version\n",
    "conda activate base\n",
    "\n",
    "#create venvs directory under ~ for now, \n",
    "#later we'll use /grand/project/TFXcan or something like this\n",
    "mkdir -p venvs/polaris/2023-10-04\n",
    "python3 -m venv venvs/polaris/2023-10-04 --system-site-packages\n",
    "```"
   ]
  },
  {
   "cell_type": "markdown",
   "metadata": {},
   "source": [
    "Next code chunk will activate the environment you just created and install pip."
   ]
  },
  {
   "cell_type": "markdown",
   "metadata": {},
   "source": [
    "```bash\n",
    "source venvs/polaris/2023-10-04/bin/activate\n",
    "python3 -m pip install --upgrade pip setuptools wheel\n",
    "```"
   ]
  },
  {
   "cell_type": "markdown",
   "metadata": {},
   "source": [
    "Now, you are free to be able to use pip to install packages as needed into an isolated environment. \n",
    "Example, installing numpy package:"
   ]
  },
  {
   "cell_type": "markdown",
   "metadata": {},
   "source": [
    "```bash\n",
    "python3 -m pip install wandb numpy\n",
    "```"
   ]
  },
  {
   "cell_type": "markdown",
   "metadata": {},
   "source": [
    "## Submitting and using a compute node"
   ]
  },
  {
   "cell_type": "markdown",
   "metadata": {},
   "source": [
    "Most work should be done on the compute node (an interactive job). After logging in to the login node, request a compute node by running the following:"
   ]
  },
  {
   "cell_type": "markdown",
   "metadata": {},
   "source": [
    "```bash\n",
    "qsub -I -A AIHPC4EDU -l walltime=1:00:00 -l filesystems=home:grand -q debug\n",
    "\n",
    "```"
   ]
  },
  {
   "cell_type": "markdown",
   "metadata": {},
   "source": [
    "Above command will give you an interactive job for 1 hour. Shorter interactive jobs are more likely to be approved, so you will get them faster. However, to get more than just one hour in the job, you can use the \"preemptable\" queue instead of \"debug\" and adjust the walltime as desired. For example, getting an 8 hour node:"
   ]
  },
  {
   "cell_type": "markdown",
   "metadata": {},
   "source": [
    "```bash\n",
    "qsub -I -A AIHPC4EDU -l walltime=08:00:00 -l filesystems=home:grand -q preemptable\n",
    "```"
   ]
  },
  {
   "cell_type": "markdown",
   "metadata": {},
   "source": [
    "If you are waiting for a while to get the compute node, you may want to check the number of free (available) nodes in polaris:"
   ]
  },
  {
   "cell_type": "markdown",
   "metadata": {},
   "source": [
    "```bash\n",
    "pbsnodes -avjS | grep free | wc -l\n",
    "\n",
    "```"
   ]
  },
  {
   "cell_type": "markdown",
   "metadata": {},
   "source": [
    "You can also check out this cool web-based visualization of free nodes [here](https://status.alcf.anl.gov/#/polaris)."
   ]
  },
  {
   "cell_type": "markdown",
   "metadata": {},
   "source": [
    "Once you get a compute node, your terminal will look something like this:"
   ]
  },
  {
   "cell_type": "markdown",
   "metadata": {},
   "source": [
    "```bash\n",
    "user@x3006c0s25b1n0:~>\n",
    "```"
   ]
  },
  {
   "cell_type": "markdown",
   "metadata": {},
   "source": [
    "### Activate the environments in the compute node."
   ]
  },
  {
   "cell_type": "markdown",
   "metadata": {},
   "source": [
    "Activate the base conda and activate your virtual environment where you installed your packages. **You need to do this every time you start a compute node or login to the login node where you are working.**"
   ]
  },
  {
   "cell_type": "markdown",
   "metadata": {},
   "source": [
    "```bash\n",
    "module load conda/2023-10-04\n",
    "conda activate base\n",
    "\n",
    "source venvs/polaris/2023-10-04/bin/activate\n",
    "```"
   ]
  },
  {
   "cell_type": "markdown",
   "metadata": {},
   "source": [
    "### How to start a Jupyter Notebook server in the compute node"
   ]
  },
  {
   "cell_type": "markdown",
   "metadata": {},
   "source": [
    "First, get your ip address."
   ]
  },
  {
   "cell_type": "markdown",
   "metadata": {},
   "source": [
    "``` bash\n",
    "my_ip_address=$( ip rule | grep -w '0:' | awk '{print $3;exit}' ) echo $my_ip_address jupyter-notebook --no-browser --ip=$my_ip_address --port=15005\n",
    "\n",
    "```"
   ]
  },
  {
   "cell_type": "markdown",
   "metadata": {},
   "source": [
    "Then:"
   ]
  },
  {
   "cell_type": "markdown",
   "metadata": {},
   "source": [
    "- Open a notebook in VSCode from the remote explorer (file with .ipynb extension). \n",
    "- Select a new kernel by clicking on the upper right side of VsCode (for me, it said \"Python 3 (ipykernel)\", but yours might say \"Select Kernel\" or something else)\n",
    "- A drop-down will pop up at the top of your screen: click on “Select another kernel”\n",
    "- Select “Existing jupyter server”\n",
    "- Select the jupyter sever with the same ip as my_ip_address returned from the code above"
   ]
  },
  {
   "cell_type": "markdown",
   "metadata": {},
   "source": [
    "If you find the jupyter notebook server with your ip address, choose that. If not, type in the one of the 2 urls shown when starting the jupyter notebook from the GPU (remote) server, which will look something like this:"
   ]
  },
  {
   "cell_type": "markdown",
   "metadata": {},
   "source": [
    "```bash\n",
    "<http://10.201.1.207:15005/?token=c4bf05355a75efcf99eca814a774432b78432cffe1eb1403>\n",
    "```"
   ]
  },
  {
   "cell_type": "markdown",
   "metadata": {},
   "source": [
    "Now, the jupyter notebook on VSCode should be running from polaris's GPU compute node."
   ]
  },
  {
   "cell_type": "markdown",
   "metadata": {},
   "source": [
    "## Possible Issues"
   ]
  },
  {
   "cell_type": "markdown",
   "metadata": {},
   "source": [
    "### If you can't find your IP address when trying to select Jupyter Server"
   ]
  },
  {
   "cell_type": "markdown",
   "metadata": {},
   "source": [
    "When starting the jupyter server, you should see something like this, where there are two URLs provided. Try the method above where you copy-paste one of the URLs into the drop-down at the top of screen, where it says \"Enter a Remote URL\". If one URL does not work, try using the other URL. "
   ]
  },
  {
   "cell_type": "markdown",
   "metadata": {},
   "source": [
    "### May need to register your Jupyter Kernel on your local computer to use it on VSCode"
   ]
  },
  {
   "cell_type": "markdown",
   "metadata": {},
   "source": [
    "On polaris, after running:"
   ]
  },
  {
   "cell_type": "markdown",
   "metadata": {},
   "source": [
    "```bash\n",
    "my_ip_address=$( ip rule | grep -w '0:' | awk '{print $3;exit}' )\n",
    "```"
   ]
  },
  {
   "cell_type": "markdown",
   "metadata": {},
   "source": [
    "Try the following:"
   ]
  },
  {
   "cell_type": "markdown",
   "metadata": {},
   "source": [
    "```bash\n",
    "echo $my_ip_address\n",
    "# then you can start the jupyter notebook normally\n",
    "jupyter-notebook --no-browser --ip=$my_ip_address --port=15005\n",
    "\n",
    "```"
   ]
  },
  {
   "cell_type": "markdown",
   "metadata": {},
   "source": [
    "Next, copy-paste your ip address in the following command, along with the port number:"
   ]
  },
  {
   "cell_type": "markdown",
   "metadata": {},
   "source": [
    "```bash\n",
    "ssh -N -f -L <port>:<ip address>:<port> youruser@polaris.alcf.anl.gov\n",
    "```"
   ]
  }
 ],
 "metadata": {
  "kernelspec": {
   "display_name": "Python 3",
   "language": "python",
   "name": "python3"
  },
  "language_info": {
   "codemirror_mode": {
    "name": "ipython",
    "version": 3
   },
   "file_extension": ".py",
   "mimetype": "text/x-python",
   "name": "python",
   "nbconvert_exporter": "python",
   "pygments_lexer": "ipython3",
   "version": "3.6.15"
  }
 },
 "nbformat": 4,
 "nbformat_minor": 2
}
