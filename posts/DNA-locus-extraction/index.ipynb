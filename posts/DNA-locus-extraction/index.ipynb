{
 "cells": [
  {
   "cell_type": "raw",
   "metadata": {},
   "source": [
    "---\n",
    "title: \"How to Extract a DNA Sequence Centered at a Specific Locus\"\n",
    "author: \"Srusti Donapati\"\n",
    "date: \"2023-07-10\"\n",
    "categories: [blog]\n",
    "image: \"https://www.genome.gov/sites/default/files/tg/en/illustration/acgt.jpg\"\n",
    "---"
   ]
  },
  {
   "cell_type": "markdown",
   "metadata": {},
   "source": [
    "Using a DNA sequence, researchers often want to predict something (e.g. gene expression, TF binding, histone modification, etc) at a specific locus (\"location\" on the genome) relevant to a particular trait or phenotype. For example, my project will be examining histone modifications at the 17q locus, which is the most significant locus for asthma (the part of the genome which is most influential, genetically, on the asthma condition). To accomplish this, it is important to know how extract from a full DNA sequence (which is 3 billion nucleotides long) the relevant locus. \n",
    "\n",
    "You can use the following function to extract a DNA sequence at a specific locus center (in Python):"
   ]
  },
  {
   "cell_type": "code",
   "execution_count": 4,
   "metadata": {},
   "outputs": [],
   "source": [
    "class FastaStringExtractor:\n",
    "    def __init__(self, fasta_file):\n",
    "        import pyfaidx\n",
    "        self.fasta = pyfaidx.Fasta(fasta_file)\n",
    "        self._chromosome_sizes = {k: len(v) for k, v in self.fasta.items()}\n",
    "    def extract(self, interval, **kwargs) -> str:\n",
    "        # Truncate interval if it extends beyond the chromosome lengths.\n",
    "        import kipoiseq\n",
    "        chromosome_length = self._chromosome_sizes[interval.chrom]\n",
    "        trimmed_interval = kipoiseq.Interval(interval.chrom,\n",
    "                                    max(interval.start, 0),\n",
    "                                    min(interval.end, chromosome_length),\n",
    "                                    )\n",
    "        # pyfaidx wants a 1-based interval\n",
    "        sequence = str(self.fasta.get_seq(trimmed_interval.chrom,\n",
    "                                            trimmed_interval.start + 1,\n",
    "                                            trimmed_interval.stop).seq).upper()\n",
    "        # Fill truncated values with N's.\n",
    "        pad_upstream = 'N' * max(-interval.start, 0)\n",
    "        pad_downstream = 'N' * max(interval.end - chromosome_length, 0)\n",
    "        return pad_upstream + sequence + pad_downstream\n",
    "    def close(self):\n",
    "        return self.fasta.close()"
   ]
  },
  {
   "cell_type": "markdown",
   "metadata": {},
   "source": [
    "Credits for the function: Saideep Gona @ Im Lab at UChicago"
   ]
  },
  {
   "cell_type": "markdown",
   "metadata": {},
   "source": [
    "You will need the pyfaidx and kipoiseq packages to use the function:"
   ]
  },
  {
   "cell_type": "code",
   "execution_count": 5,
   "metadata": {},
   "outputs": [],
   "source": [
    "!pip install pyfaidx \n",
    "!pip install kipoiseq==0.5.2"
   ]
  },
  {
   "cell_type": "markdown",
   "metadata": {},
   "source": [
    "To use this function (after you have defined it), first create an instance of the FastaStringExtractor object, providing a fasta file you want to use. This fasta file is going to contain the full DNA sequence which you want to extract from:"
   ]
  },
  {
   "cell_type": "code",
   "execution_count": 7,
   "metadata": {},
   "outputs": [
    {
     "ename": "NameError",
     "evalue": "name 'fasta_file' is not defined",
     "output_type": "error",
     "traceback": [
      "\u001b[0;31m---------------------------------------------------------------------------\u001b[0m",
      "\u001b[0;31mNameError\u001b[0m                                 Traceback (most recent call last)",
      "Cell \u001b[0;32mIn[7], line 1\u001b[0m\n\u001b[0;32m----> 1\u001b[0m fasta_extractor_object \u001b[39m=\u001b[39m FastaStringExtractor(fasta_file)\n",
      "\u001b[0;31mNameError\u001b[0m: name 'fasta_file' is not defined"
     ]
    }
   ],
   "source": [
    "fasta_extractor_object = FastaStringExtractor(fasta_file)\n",
    "#you should have defined the path of your fasta file and assigned it to some variable before this"
   ]
  },
  {
   "cell_type": "markdown",
   "metadata": {},
   "source": [
    "Then, create an interval you want to extract the sequence from using kipoiseq (\".resize\" will resize the interval you provide to a length provided by \"sequence_length\". The new interval will be centered on the \"start\",\"end\" you provided originally):"
   ]
  },
  {
   "cell_type": "code",
   "execution_count": null,
   "metadata": {},
   "outputs": [
    {
     "ename": "NameError",
     "evalue": "name 'kipoiseq' is not defined",
     "output_type": "error",
     "traceback": [
      "\u001b[0;31m---------------------------------------------------------------------------\u001b[0m",
      "\u001b[0;31mNameError\u001b[0m                                 Traceback (most recent call last)",
      "Cell \u001b[0;32mIn[2], line 1\u001b[0m\n\u001b[0;32m----> 1\u001b[0m target_interval \u001b[39m=\u001b[39m kipoiseq\u001b[39m.\u001b[39mInterval(chrom,start,end)\u001b[39m.\u001b[39mresize(sequence_length)\n",
      "\u001b[0;31mNameError\u001b[0m: name 'kipoiseq' is not defined"
     ]
    }
   ],
   "source": [
    "target_interval = kipoiseq.Interval(chrom,start,end).resize(sequence_length)"
   ]
  },
  {
   "cell_type": "markdown",
   "metadata": {},
   "source": [
    "Then, create an interval you want to extract the sequence from using kipoiseq (\".resize\" will resize the interval you provide to a length provided by \"sequence_length\". The new interval will be centered on the \"start\",\"end\" you provided originally):"
   ]
  },
  {
   "cell_type": "code",
   "execution_count": null,
   "metadata": {},
   "outputs": [],
   "source": [
    "target_interval = kipoiseq.Interval(chrom,start,end).resize(sequence_length)"
   ]
  },
  {
   "cell_type": "markdown",
   "metadata": {},
   "source": [
    "Finally, extract the sequence using the extractor object like this:"
   ]
  },
  {
   "cell_type": "code",
   "execution_count": null,
   "metadata": {},
   "outputs": [],
   "source": [
    "extracted_sequence = fasta_extractor_object.extract(target_interval)"
   ]
  },
  {
   "cell_type": "markdown",
   "metadata": {},
   "source": [
    "That's it!"
   ]
  }
 ],
 "metadata": {
  "kernelspec": {
   "display_name": "dlgtools",
   "language": "python",
   "name": "python3"
  },
  "language_info": {
   "codemirror_mode": {
    "name": "ipython",
    "version": 3
   },
   "file_extension": ".py",
   "mimetype": "text/x-python",
   "name": "python",
   "nbconvert_exporter": "python",
   "pygments_lexer": "ipython3",
   "version": "3.11.3"
  },
  "orig_nbformat": 4
 },
 "nbformat": 4,
 "nbformat_minor": 2
}
