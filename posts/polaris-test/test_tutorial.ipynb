{
 "cells": [
  {
   "cell_type": "code",
   "execution_count": 4,
   "metadata": {},
   "outputs": [
    {
     "ename": "ModuleNotFoundError",
     "evalue": "No module named 'parsl'",
     "output_type": "error",
     "traceback": [
      "\u001b[0;31m---------------------------------------------------------------------------\u001b[0m",
      "\u001b[0;31mModuleNotFoundError\u001b[0m                       Traceback (most recent call last)",
      "\u001b[1;32m/grand/TFXcan/imlab/users/srusti/Deep_Learning_Blog_Quarto/posts/polaris-test/test_tutorial.ipynb Cell 1\u001b[0m line \u001b[0;36m1\n\u001b[0;32m----> <a href='vscode-notebook-cell://ssh-remote%2Bpolaris.alcf.anl.gov/grand/TFXcan/imlab/users/srusti/Deep_Learning_Blog_Quarto/posts/polaris-test/test_tutorial.ipynb#W0sdnNjb2RlLXJlbW90ZQ%3D%3D?line=0'>1</a>\u001b[0m \u001b[39mfrom\u001b[39;00m \u001b[39mparsl\u001b[39;00m\u001b[39m.\u001b[39;00m\u001b[39maddresses\u001b[39;00m \u001b[39mimport\u001b[39;00m address_by_hostname\n\u001b[1;32m      <a href='vscode-notebook-cell://ssh-remote%2Bpolaris.alcf.anl.gov/grand/TFXcan/imlab/users/srusti/Deep_Learning_Blog_Quarto/posts/polaris-test/test_tutorial.ipynb#W0sdnNjb2RlLXJlbW90ZQ%3D%3D?line=1'>2</a>\u001b[0m \u001b[39mfrom\u001b[39;00m \u001b[39mparsl\u001b[39;00m\u001b[39m.\u001b[39;00m\u001b[39mexecutors\u001b[39;00m \u001b[39mimport\u001b[39;00m HighThroughputExecutor\n\u001b[1;32m      <a href='vscode-notebook-cell://ssh-remote%2Bpolaris.alcf.anl.gov/grand/TFXcan/imlab/users/srusti/Deep_Learning_Blog_Quarto/posts/polaris-test/test_tutorial.ipynb#W0sdnNjb2RlLXJlbW90ZQ%3D%3D?line=2'>3</a>\u001b[0m \u001b[39mfrom\u001b[39;00m \u001b[39mparsl\u001b[39;00m\u001b[39m.\u001b[39;00m\u001b[39mlaunchers\u001b[39;00m \u001b[39mimport\u001b[39;00m MpiExecLauncher\n",
      "\u001b[0;31mModuleNotFoundError\u001b[0m: No module named 'parsl'"
     ]
    }
   ],
   "source": [
    "from parsl.addresses import address_by_hostname\n",
    "from parsl.executors import HighThroughputExecutor\n",
    "from parsl.launchers import MpiExecLauncher\n",
    "from parsl.providers import PBSProProvider\n",
    "from parsl.config import Config\n",
    "\n",
    "# There are three user parameters to change for the PBSProProvider:\n",
    "#  YOUR_ACCOUNT: Account to charge usage\n",
    "#  YOUR_ENV: Name or path of your Parsl environment\n",
    "#  YOUR_WALLTIME: How long each job should run for\n",
    "\n",
    "#  You may also need to change the filesystem if your data is not on Eagle\n",
    "\n",
    "config = Config(\n",
    "    executors=[\n",
    "        HighThroughputExecutor(\n",
    "            available_accelerators=4,  # Ensures one worker per accelerator\n",
    "            address=address_by_hostname(),\n",
    "            cpu_affinity=\"alternating\",  # Prevents thread contention\n",
    "            prefetch_capacity=0,  # Increase if you have many more tasks than workers\n",
    "            start_method=\"spawn\",  # Needed to avoid interactions between MPI and os.fork\n",
    "            provider=PBSProProvider(\n",
    "                account=\"YOUR_ACCOUNT\",\n",
    "                worker_init=\"module load conda; conda activate YOUR_ENV\",\n",
    "                walltime=\"YOUR_WALLTIME\",\n",
    "                queue=\"prod\",  # Small runs should use \"debug\" or \"debug-scaling\"\n",
    "                scheduler_options=\"#PBS -l filesystems=home:eagle\",  # Change if data on other filesystem\n",
    "                launcher=MpiExecLauncher(\n",
    "                    bind_cmd=\"--cpu-bind\", overrides=\"--depth=64 --ppn 1\"\n",
    "                ),  # Ensures 1 manger per node and allows it to divide work to all 64 cores\n",
    "                select_options=\"ngpus=4\",\n",
    "                nodes_per_block=128,\n",
    "                min_blocks=0,\n",
    "                max_blocks=1,\n",
    "                cpus_per_node=64,\n",
    "            ),\n",
    "        ),\n",
    "    ]\n",
    ")"
   ]
  },
  {
   "cell_type": "code",
   "execution_count": null,
   "metadata": {},
   "outputs": [],
   "source": []
  }
 ],
 "metadata": {
  "kernelspec": {
   "display_name": "Python 3",
   "language": "python",
   "name": "python3"
  },
  "language_info": {
   "codemirror_mode": {
    "name": "ipython",
    "version": 3
   },
   "file_extension": ".py",
   "mimetype": "text/x-python",
   "name": "python",
   "nbconvert_exporter": "python",
   "pygments_lexer": "ipython3",
   "version": "3.10.12"
  }
 },
 "nbformat": 4,
 "nbformat_minor": 2
}
